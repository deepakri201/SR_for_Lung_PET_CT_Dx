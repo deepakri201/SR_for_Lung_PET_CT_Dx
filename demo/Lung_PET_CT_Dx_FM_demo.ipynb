{
  "nbformat": 4,
  "nbformat_minor": 0,
  "metadata": {
    "colab": {
      "provenance": [],
      "toc_visible": true,
      "authorship_tag": "ABX9TyO3FT8Z/L88jCdFBj9I+SAm",
      "include_colab_link": true
    },
    "kernelspec": {
      "name": "python3",
      "display_name": "Python 3"
    },
    "language_info": {
      "name": "python"
    }
  },
  "cells": [
    {
      "cell_type": "markdown",
      "metadata": {
        "id": "view-in-github",
        "colab_type": "text"
      },
      "source": [
        "<a href=\"https://colab.research.google.com/github/deepakri201/SR_for_Lung_PET_CT_Dx/blob/main/demo/Lung_PET_CT_Dx_FM_demo.ipynb\" target=\"_parent\"><img src=\"https://colab.research.google.com/assets/colab-badge.svg\" alt=\"Open In Colab\"/></a>"
      ]
    },
    {
      "cell_type": "markdown",
      "source": [
        "# Lung-PET-CT-Dx FM demo\n",
        "\n",
        "In this notebook, we demonstrate the use of foundation models (FMs) to aid in downstream tasks. We make use of Imaging Data Commons (IDC) data, which holds a large lung cancer imaging dataset, the Lung-PET-CT-Dx, along with relevant metadata including type of tumor.\n",
        "\n",
        "Here we compare two FMs, FMCIB that uses 3D volumes, and MedSigLIP that uses 2D patches. For both, we extract the embeddings, and use those to train a classifier to predict the type of tumor.\n",
        "\n",
        "Here we assume that we have already created the DICOM Structured Reports (SRs) that hold the bounding box annotations.\n",
        "\n",
        "Part 1 - [Lung-CT-PET-Dx_FM_demo_part1.ipynb](https://colab.research.google.com/drive/11HbpUniB69gRaO7ScgsFTeVOLmRZ__Bt?usp=drive_link)\n",
        "  - Inputs: SRs and metadata\n",
        "  - Outputs: lung_ct_pet_dx_fm.csv\n",
        "  - Code:\n",
        "    - Join BigQuery tables that hold the metadata extracted from the SRs with the clincal metadata in IDC  \n",
        "\n",
        "Part 2 - [Lung-CT-PET-Dx_FM_demo_part2.ipynb](https://colab.research.google.com/drive/1hxVBDsRl8sYrL3XPHTbzxq5E1oHJV04c?usp=drive_link)\n",
        "  - Inputs: lung_ct_pet_dx_fm.csv\n",
        "  - Outputs: fmcib_input.csv and fmcib_features.csv\n",
        "  - Code:\n",
        "    - Download DICOM data\n",
        "    - Convert to nifti\n",
        "    - Create FMCIB features csv\n",
        "\n",
        "Part 3 - [Lung-CT-PET-Dx_demo_part3.ipynb](https://colab.research.google.com/drive/1kkR0Xksr2EtogpCsknOYzwTIKC57hi1P?usp=drive_link)\n",
        "  - Inputs: lung_ct_pet_dx_fm.csv\n",
        "  - Outputs: medsiglip_features.csv\n",
        "  - Code:\n",
        "    - Download DICOM data\n",
        "    - Create MedSIGLip features csv\n",
        "\n",
        "Part 4 - [Lung-CT-PET-Dx_FM_demo_part4.ipynb](https://colab.research.google.com/drive/1sOZ57OMPtyb0SovXf90ey-wkTOa_d9Az?usp=drive_link)\n",
        "  - Inputs: lung_ct_pet_dx_fm.csv, fmcib_features.csv, medisglip_features.csv\n",
        "  - Outputs: trained models and evaluation\n",
        "  - Code:\n",
        "    - Train/val/test two classification models using FMCIB and MedSIGLip features and compare\n",
        "\n",
        "Deepa Krishnaswamy\n",
        "\n",
        "Brigham and Women's Hospital\n",
        "\n",
        "September 2025\n",
        "\n",
        "Note:\n",
        "- insert links later\n",
        "- insert references later\n",
        "- insert requirements later - like hugging face token etc."
      ],
      "metadata": {
        "id": "3--C68WLWcLB"
      }
    },
    {
      "cell_type": "code",
      "source": [],
      "metadata": {
        "id": "KYOCgTYplI_F"
      },
      "execution_count": null,
      "outputs": []
    }
  ]
}